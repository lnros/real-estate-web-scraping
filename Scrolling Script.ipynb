{
 "cells": [
  {
   "cell_type": "code",
   "execution_count": 1,
   "metadata": {},
   "outputs": [],
   "source": [
    "from bs4 import BeautifulSoup\n",
    "from selenium import webdriver\n",
    "import time\n",
    "from selenium.webdriver.common.keys import Keys\n",
    "from selenium.webdriver.common.by import By\n",
    "from selenium.webdriver import ActionChains\n",
    "from selenium.webdriver.support.wait import WebDriverWait\n",
    "\n",
    "driver = webdriver.Chrome('C:\\Drivers\\chromedriver_win32\\chromedriver.exe')\n",
    "\n",
    "time.sleep(2)\n",
    "\n",
    "driver.get('https://www.onmap.co.il/en/homes/buy/tel-aviv-yafo')\n",
    "\n",
    "time.sleep(3)\n",
    "\n",
    "driver.maximize_window()\n",
    "\n",
    "time.sleep(3)\n",
    "\n",
    "prev_len =  driver.find_elements_by_xpath(\"//*[@id='propertiesList']/div[2]/div\")\n",
    "while True:\n",
    "    ele_to_scroll = driver.find_elements_by_xpath(\"//*[@id='propertiesList']/div[2]/div\")[-1]\n",
    "    driver.execute_script(\"arguments[0].scrollIntoView();\",ele_to_scroll)\n",
    "    time.sleep(2)\n",
    "    new_len =  driver.find_elements_by_xpath(\"//*[@id='propertiesList']/div[2]/div\")\n",
    "    if prev_len == new_len:\n",
    "        break\n",
    "    prev_len = new_len"
   ]
  },
  {
   "cell_type": "code",
   "execution_count": null,
   "metadata": {},
   "outputs": [],
   "source": []
  }
 ],
 "metadata": {
  "kernelspec": {
   "display_name": "Python 3",
   "language": "python",
   "name": "python3"
  },
  "language_info": {
   "codemirror_mode": {
    "name": "ipython",
    "version": 3
   },
   "file_extension": ".py",
   "mimetype": "text/x-python",
   "name": "python",
   "nbconvert_exporter": "python",
   "pygments_lexer": "ipython3",
   "version": "3.7.6"
  }
 },
 "nbformat": 4,
 "nbformat_minor": 4
}
